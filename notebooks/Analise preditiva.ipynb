{
 "cells": [
  {
   "cell_type": "code",
   "execution_count": 114,
   "metadata": {},
   "outputs": [],
   "source": [
    "import pandas as pd\n",
    "import numpy as np\n",
    "import matplotlib.pyplot as plt\n",
    "from sklearn.model_selection import train_test_split\n",
    "from sklearn import linear_model, preprocessing\n",
    "from sklearn.metrics import r2_score, mean_absolute_error\n",
    "import seaborn as sns\n",
    "from scipy import stats\n",
    "import pickle"
   ]
  },
  {
   "cell_type": "code",
   "execution_count": 2,
   "metadata": {},
   "outputs": [],
   "source": [
    "# Carregando o data frame\n",
    "df = pd.read_excel('../data/preprocessed.xlsx', index_col=0)"
   ]
  },
  {
   "cell_type": "code",
   "execution_count": 3,
   "metadata": {},
   "outputs": [
    {
     "data": {
      "text/html": [
       "<div>\n",
       "<style scoped>\n",
       "    .dataframe tbody tr th:only-of-type {\n",
       "        vertical-align: middle;\n",
       "    }\n",
       "\n",
       "    .dataframe tbody tr th {\n",
       "        vertical-align: top;\n",
       "    }\n",
       "\n",
       "    .dataframe thead th {\n",
       "        text-align: right;\n",
       "    }\n",
       "</style>\n",
       "<table border=\"1\" class=\"dataframe\">\n",
       "  <thead>\n",
       "    <tr style=\"text-align: right;\">\n",
       "      <th></th>\n",
       "      <th>QTD_CHOC</th>\n",
       "      <th>VAR_1</th>\n",
       "      <th>VAR_2</th>\n",
       "      <th>PESO_BOMBOM</th>\n",
       "      <th>QUALIDADE</th>\n",
       "    </tr>\n",
       "  </thead>\n",
       "  <tbody>\n",
       "    <tr>\n",
       "      <th>0</th>\n",
       "      <td>320.15</td>\n",
       "      <td>0.88</td>\n",
       "      <td>0</td>\n",
       "      <td>10.144919</td>\n",
       "      <td>2</td>\n",
       "    </tr>\n",
       "    <tr>\n",
       "      <th>1</th>\n",
       "      <td>320.14</td>\n",
       "      <td>1.55</td>\n",
       "      <td>0</td>\n",
       "      <td>11.547027</td>\n",
       "      <td>2</td>\n",
       "    </tr>\n",
       "    <tr>\n",
       "      <th>2</th>\n",
       "      <td>284.85</td>\n",
       "      <td>2.97</td>\n",
       "      <td>0</td>\n",
       "      <td>11.112109</td>\n",
       "      <td>2</td>\n",
       "    </tr>\n",
       "    <tr>\n",
       "      <th>3</th>\n",
       "      <td>263.92</td>\n",
       "      <td>2.36</td>\n",
       "      <td>2</td>\n",
       "      <td>9.900123</td>\n",
       "      <td>0</td>\n",
       "    </tr>\n",
       "    <tr>\n",
       "      <th>4</th>\n",
       "      <td>276.22</td>\n",
       "      <td>2.98</td>\n",
       "      <td>2</td>\n",
       "      <td>10.079822</td>\n",
       "      <td>2</td>\n",
       "    </tr>\n",
       "  </tbody>\n",
       "</table>\n",
       "</div>"
      ],
      "text/plain": [
       "   QTD_CHOC  VAR_1  VAR_2  PESO_BOMBOM  QUALIDADE\n",
       "0    320.15   0.88      0    10.144919          2\n",
       "1    320.14   1.55      0    11.547027          2\n",
       "2    284.85   2.97      0    11.112109          2\n",
       "3    263.92   2.36      2     9.900123          0\n",
       "4    276.22   2.98      2    10.079822          2"
      ]
     },
     "execution_count": 3,
     "metadata": {},
     "output_type": "execute_result"
    }
   ],
   "source": [
    "df.head()"
   ]
  },
  {
   "cell_type": "code",
   "execution_count": 72,
   "metadata": {},
   "outputs": [],
   "source": [
    "def calc_rss(y,predicted):\n",
    "    return float(((predicted - y) ** 2).sum())\n",
    "\n",
    "def calc_metrics(ytest, ypred):\n",
    "    # Calculate the absolute errors\n",
    "    errors = abs(ypred - ytest)\n",
    "    #Avaliando modelo com dados de teste\n",
    "    r2 = r2_score(ytest,ypred)\n",
    "    rss = calc_rss(ytest,ypred)\n",
    "    meanabs = mean_absolute_error(ytest,ypred)\n",
    "\n",
    "    # mean absolute percentage error (MAPE)\n",
    "    mape = 100 * (errors / ytest)\n",
    "    #accuracy\n",
    "    accuracy = 100 - np.mean(mape)\n",
    "\n",
    "    print('Accuracy:', round(accuracy, 2), '%.')\n",
    "    print(\"R2 score: {:.3f}\".format(r2))\n",
    "    print(\"RSS score: {:.3f}\".format(rss))\n",
    "    print(\"Mean absolute error: {:.3f}\".format(meanabs))\n",
    "    \n",
    "def plot_resid(ytest, ypred, ytrain, ypred_train):\n",
    "    plt.scatter(ypred_train, ypred_train - ytrain,\n",
    "                color = \"green\", s = 10, label = 'Train data')\n",
    "    plt.scatter(ypred, ypred - ytest,\n",
    "                color = \"blue\", s = 10, label = 'Test data')\n",
    "\n",
    "    ## plotting line for zero residual error\n",
    "    plt.hlines(y = 0, xmin = np.min(ypred_train), xmax = np.max(ypred_train), linewidth = 2)\n",
    "    plt.legend(loc = 'upper right')\n",
    "    plt.title(\"Residual errors\")\n",
    "    plt.show()"
   ]
  },
  {
   "cell_type": "code",
   "execution_count": 73,
   "metadata": {},
   "outputs": [],
   "source": [
    "# Normalizacao\n",
    "min_max_scaler = preprocessing.MinMaxScaler()\n",
    "df_norm = pd.DataFrame(min_max_scaler.fit_transform(df), columns=df.columns)"
   ]
  },
  {
   "cell_type": "code",
   "execution_count": 74,
   "metadata": {},
   "outputs": [],
   "source": [
    "# Criando objetos de treino e teste\n",
    "X = df.iloc[:, 0:3].values\n",
    "y = df['PESO_BOMBOM'].values\n",
    "\n",
    "X_norm = df_norm.iloc[:, 0:3].values\n",
    "y_norm = df_norm['PESO_BOMBOM'].values"
   ]
  },
  {
   "cell_type": "code",
   "execution_count": 75,
   "metadata": {},
   "outputs": [
    {
     "name": "stdout",
     "output_type": "stream",
     "text": [
      "69.82% nos dados de treino\n",
      "30.18% nos dados de teste\n"
     ]
    }
   ],
   "source": [
    "# Criando dados de treino e de teste\n",
    "X_train, X_test, y_train, y_test = train_test_split(X, y, test_size = 0.3, random_state = 42)\n",
    "# Imprimindo os resultados\n",
    "print(\"{0:0.2f}% nos dados de treino\".format((len(X_train)/len(df.index)) * 100))\n",
    "print(\"{0:0.2f}% nos dados de teste\".format((len(X_test)/len(df.index)) * 100))"
   ]
  },
  {
   "cell_type": "markdown",
   "metadata": {},
   "source": [
    "#### Linear model"
   ]
  },
  {
   "cell_type": "code",
   "execution_count": 76,
   "metadata": {},
   "outputs": [
    {
     "name": "stdout",
     "output_type": "stream",
     "text": [
      "Coefficients:  [ 0.01062642  0.77277251 -0.55147231]\n",
      "Variance score: 0.5253484000578852\n"
     ]
    }
   ],
   "source": [
    "# create linear regression object\n",
    "reg = linear_model.LinearRegression()\n",
    " \n",
    "# train the model using the training sets\n",
    "reg.fit(X_train, y_train)\n",
    " \n",
    "# regression coefficients\n",
    "print('Coefficients: ', reg.coef_)\n",
    " \n",
    "# variance score: 1 means perfect prediction\n",
    "print('Variance score: {}'.format(reg.score(X_test, y_test)))"
   ]
  },
  {
   "cell_type": "code",
   "execution_count": 77,
   "metadata": {},
   "outputs": [
    {
     "name": "stdout",
     "output_type": "stream",
     "text": [
      "Accuracy: 92.88 %.\n",
      "R2 score: 0.525\n",
      "RSS score: 124.647\n",
      "Mean absolute error: 0.709\n"
     ]
    }
   ],
   "source": [
    "#Avaliando modelo com dados de teste\n",
    "calc_metrics(y_test,reg.predict(X_test))"
   ]
  },
  {
   "cell_type": "code",
   "execution_count": 78,
   "metadata": {},
   "outputs": [
    {
     "data": {
      "image/png": "[encoded data removed]",
      "text/plain": [
       "<Figure size 432x288 with 1 Axes>"
      ]
     },
     "metadata": {},
     "output_type": "display_data"
    }
   ],
   "source": [
    "# Residual error\n",
    "plot_resid(y_test, reg.predict(X_test),y_train, reg.predict(X_train))"
   ]
  },
  {
   "cell_type": "markdown",
   "metadata": {},
   "source": [
    "#### Random Forest"
   ]
  },
  {
   "cell_type": "code",
   "execution_count": 84,
   "metadata": {},
   "outputs": [
    {
     "data": {
      "text/plain": [
       "RandomForestRegressor(bootstrap=True, ccp_alpha=0.0, criterion='mse',\n",
       "                      max_depth=None, max_features='auto', max_leaf_nodes=None,\n",
       "                      max_samples=None, min_impurity_decrease=0.0,\n",
       "                      min_impurity_split=None, min_samples_leaf=1,\n",
       "                      min_samples_split=2, min_weight_fraction_leaf=0.0,\n",
       "                      n_estimators=1000, n_jobs=None, oob_score=False,\n",
       "                      random_state=42, verbose=0, warm_start=False)"
      ]
     },
     "execution_count": 84,
     "metadata": {},
     "output_type": "execute_result"
    }
   ],
   "source": [
    "from sklearn.ensemble import RandomForestRegressor\n",
    "rf = RandomForestRegressor(n_estimators = 1000, random_state = 42)\n",
    "rf.fit(X_train, y_train)"
   ]
  },
  {
   "cell_type": "code",
   "execution_count": 83,
   "metadata": {},
   "outputs": [
    {
     "name": "stdout",
     "output_type": "stream",
     "text": [
      "Accuracy: 93.98 %.\n",
      "R2 score: 0.653\n",
      "RSS score: 91.123\n",
      "Mean absolute error: 0.593\n"
     ]
    }
   ],
   "source": [
    "calc_metrics(y_test,rf.predict(X_test))"
   ]
  },
  {
   "cell_type": "code",
   "execution_count": 81,
   "metadata": {},
   "outputs": [
    {
     "data": {
      "image/png": "[encoded data removed]",
      "text/plain": [
       "<Figure size 432x288 with 1 Axes>"
      ]
     },
     "metadata": {},
     "output_type": "display_data"
    }
   ],
   "source": [
    "# Residual error\n",
    "plot_resid(y_test, rf.predict(X_test),y_train, rf.predict(X_train))"
   ]
  },
  {
   "cell_type": "code",
   "execution_count": 93,
   "metadata": {},
   "outputs": [
    {
     "data": {
      "text/plain": [
       "['QTD_CHOC', 'VAR_1', 'VAR_2']"
      ]
     },
     "execution_count": 93,
     "metadata": {},
     "output_type": "execute_result"
    }
   ],
   "source": [
    "list(df.iloc[:, 0:3].columns)"
   ]
  },
  {
   "cell_type": "code",
   "execution_count": 110,
   "metadata": {},
   "outputs": [
    {
     "name": "stdout",
     "output_type": "stream",
     "text": [
      "Variable: VAR_2                Importance: 0.44\n",
      "Variable: VAR_1                Importance: 0.31\n",
      "Variable: QTD_CHOC             Importance: 0.25\n"
     ]
    }
   ],
   "source": [
    "# Get numerical feature importances\n",
    "importances = list(rf.feature_importances_)\n",
    "# List of tuples with variable and importance\n",
    "feature_importances = [(x, round(importance, 2)) for x, importance in zip(list(df.iloc[:, 0:3].columns), importances)]\n",
    "# Sort the feature importances by most important first\n",
    "feature_importances = sorted(feature_importances, key = lambda x: x[1], reverse = True)\n",
    "# Print out the feature and importances \n",
    "[print('Variable: {:20} Importance: {}'.format(*pair)) for pair in feature_importances];"
   ]
  },
  {
   "cell_type": "code",
   "execution_count": 115,
   "metadata": {},
   "outputs": [],
   "source": [
    "with open('../model/rfmodel_pkl', 'wb') as files:\n",
    "    pickle.dump(rf, files)"
   ]
  },
  {
   "cell_type": "markdown",
   "metadata": {},
   "source": [
    "### Preenchendo a planilha"
   ]
  },
  {
   "cell_type": "code",
   "execution_count": 148,
   "metadata": {},
   "outputs": [
    {
     "data": {
      "text/html": [
       "<div>\n",
       "<style scoped>\n",
       "    .dataframe tbody tr th:only-of-type {\n",
       "        vertical-align: middle;\n",
       "    }\n",
       "\n",
       "    .dataframe tbody tr th {\n",
       "        vertical-align: top;\n",
       "    }\n",
       "\n",
       "    .dataframe thead th {\n",
       "        text-align: right;\n",
       "    }\n",
       "</style>\n",
       "<table border=\"1\" class=\"dataframe\">\n",
       "  <thead>\n",
       "    <tr style=\"text-align: right;\">\n",
       "      <th></th>\n",
       "      <th>QTD_CHOC</th>\n",
       "      <th>VAR_1</th>\n",
       "      <th>VAR_2</th>\n",
       "      <th>PESO_BOMBOM</th>\n",
       "    </tr>\n",
       "  </thead>\n",
       "  <tbody>\n",
       "    <tr>\n",
       "      <th>0</th>\n",
       "      <td>286.63</td>\n",
       "      <td>2.72</td>\n",
       "      <td>0</td>\n",
       "      <td>NaN</td>\n",
       "    </tr>\n",
       "    <tr>\n",
       "      <th>1</th>\n",
       "      <td>257.27</td>\n",
       "      <td>1.97</td>\n",
       "      <td>1</td>\n",
       "      <td>NaN</td>\n",
       "    </tr>\n",
       "    <tr>\n",
       "      <th>2</th>\n",
       "      <td>353.16</td>\n",
       "      <td>2.64</td>\n",
       "      <td>0</td>\n",
       "      <td>NaN</td>\n",
       "    </tr>\n",
       "    <tr>\n",
       "      <th>3</th>\n",
       "      <td>317.78</td>\n",
       "      <td>2.76</td>\n",
       "      <td>0</td>\n",
       "      <td>NaN</td>\n",
       "    </tr>\n",
       "    <tr>\n",
       "      <th>4</th>\n",
       "      <td>248.10</td>\n",
       "      <td>2.63</td>\n",
       "      <td>2</td>\n",
       "      <td>NaN</td>\n",
       "    </tr>\n",
       "  </tbody>\n",
       "</table>\n",
       "</div>"
      ],
      "text/plain": [
       "   QTD_CHOC  VAR_1  VAR_2  PESO_BOMBOM\n",
       "0    286.63   2.72      0          NaN\n",
       "1    257.27   1.97      1          NaN\n",
       "2    353.16   2.64      0          NaN\n",
       "3    317.78   2.76      0          NaN\n",
       "4    248.10   2.63      2          NaN"
      ]
     },
     "execution_count": 148,
     "metadata": {},
     "output_type": "execute_result"
    }
   ],
   "source": [
    "# Carregando o data frame\n",
    "df_pred = pd.read_excel('../data/analise-preditiva.xlsx')\n",
    "df_pred_copy = df_pred.copy()\n",
    "df_pred_copy.loc[:,'VAR_2'] = df_pred.loc[:,'VAR_2'].astype('category').cat.codes\n",
    "df_pred_copy.head()"
   ]
  },
  {
   "cell_type": "code",
   "execution_count": 149,
   "metadata": {},
   "outputs": [
    {
     "data": {
      "text/plain": [
       "array([11.4878921])"
      ]
     },
     "execution_count": 149,
     "metadata": {},
     "output_type": "execute_result"
    }
   ],
   "source": [
    "# Carregando modelo\n",
    "with open('../model/rfmodel_pkl' , 'rb') as f:\n",
    "    rfmodel = pickle.load(f)\n",
    "\n",
    "X_pred = df_pred_copy.iloc[:, 0:3].values\n",
    "rfmodel.predict([X_pred[0]])"
   ]
  },
  {
   "cell_type": "code",
   "execution_count": 167,
   "metadata": {},
   "outputs": [
    {
     "data": {
      "text/plain": [
       "array([10.51754138])"
      ]
     },
     "execution_count": 167,
     "metadata": {},
     "output_type": "execute_result"
    }
   ],
   "source": [
    "rfmodel.predict([[266.830617,2.94,1]])"
   ]
  },
  {
   "cell_type": "code",
   "execution_count": 150,
   "metadata": {},
   "outputs": [],
   "source": [
    "# Populando a coluna PESO_BOMBOM\n",
    "df_pred.loc[:,'PESO_BOMBOM'] = rfmodel.predict(X_pred)"
   ]
  },
  {
   "cell_type": "code",
   "execution_count": 151,
   "metadata": {},
   "outputs": [
    {
     "data": {
      "text/html": [
       "<div>\n",
       "<style scoped>\n",
       "    .dataframe tbody tr th:only-of-type {\n",
       "        vertical-align: middle;\n",
       "    }\n",
       "\n",
       "    .dataframe tbody tr th {\n",
       "        vertical-align: top;\n",
       "    }\n",
       "\n",
       "    .dataframe thead th {\n",
       "        text-align: right;\n",
       "    }\n",
       "</style>\n",
       "<table border=\"1\" class=\"dataframe\">\n",
       "  <thead>\n",
       "    <tr style=\"text-align: right;\">\n",
       "      <th></th>\n",
       "      <th>QTD_CHOC</th>\n",
       "      <th>VAR_1</th>\n",
       "      <th>VAR_2</th>\n",
       "      <th>PESO_BOMBOM</th>\n",
       "    </tr>\n",
       "  </thead>\n",
       "  <tbody>\n",
       "    <tr>\n",
       "      <th>0</th>\n",
       "      <td>286.63</td>\n",
       "      <td>2.72</td>\n",
       "      <td>A</td>\n",
       "      <td>11.487892</td>\n",
       "    </tr>\n",
       "    <tr>\n",
       "      <th>1</th>\n",
       "      <td>257.27</td>\n",
       "      <td>1.97</td>\n",
       "      <td>B</td>\n",
       "      <td>8.478249</td>\n",
       "    </tr>\n",
       "    <tr>\n",
       "      <th>2</th>\n",
       "      <td>353.16</td>\n",
       "      <td>2.64</td>\n",
       "      <td>A</td>\n",
       "      <td>12.768053</td>\n",
       "    </tr>\n",
       "    <tr>\n",
       "      <th>3</th>\n",
       "      <td>317.78</td>\n",
       "      <td>2.76</td>\n",
       "      <td>A</td>\n",
       "      <td>11.894899</td>\n",
       "    </tr>\n",
       "    <tr>\n",
       "      <th>4</th>\n",
       "      <td>248.10</td>\n",
       "      <td>2.63</td>\n",
       "      <td>C</td>\n",
       "      <td>10.081246</td>\n",
       "    </tr>\n",
       "  </tbody>\n",
       "</table>\n",
       "</div>"
      ],
      "text/plain": [
       "   QTD_CHOC  VAR_1 VAR_2  PESO_BOMBOM\n",
       "0    286.63   2.72     A    11.487892\n",
       "1    257.27   1.97     B     8.478249\n",
       "2    353.16   2.64     A    12.768053\n",
       "3    317.78   2.76     A    11.894899\n",
       "4    248.10   2.63     C    10.081246"
      ]
     },
     "execution_count": 151,
     "metadata": {},
     "output_type": "execute_result"
    }
   ],
   "source": [
    "df_pred.head()"
   ]
  },
  {
   "cell_type": "code",
   "execution_count": 153,
   "metadata": {},
   "outputs": [],
   "source": [
    "df_pred.to_excel(\"../data/analise-preditiva-resultado.xlsx\", index=False)  "
   ]
  }
 ],
 "metadata": {
  "kernelspec": {
   "display_name": "Python 3",
   "language": "python",
   "name": "python3"
  },
  "language_info": {
   "codemirror_mode": {
    "name": "ipython",
    "version": 3
   },
   "file_extension": ".py",
   "mimetype": "text/x-python",
   "name": "python",
   "nbconvert_exporter": "python",
   "pygments_lexer": "ipython3",
   "version": "3.7.6"
  }
 },
 "nbformat": 4,
 "nbformat_minor": 4
}
